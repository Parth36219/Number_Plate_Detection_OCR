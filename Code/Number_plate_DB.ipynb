{
 "cells": [
  {
   "cell_type": "code",
   "execution_count": 2,
   "id": "87e44b5e",
   "metadata": {},
   "outputs": [],
   "source": [
    "import mysql.connector\n",
    "from mysql.connector import Error\n",
    "def create_server_connection(host_name, user_name, user_password):\n",
    "    connection = None\n",
    "    try:\n",
    "        connection = mysql.connector.connect(\n",
    "            host=host_name,\n",
    "            user=user_name,\n",
    "            passwd=user_password\n",
    "        )\n",
    "        print(\"MySQL Database connection successful\")\n",
    "    except Error as err:\n",
    "        print(f\"Error: '{err}'\")\n",
    "\n",
    "    return connection\n",
    "def create_database(connection, query):\n",
    "    cursor = connection.cursor()\n",
    "    try:\n",
    "        cursor.execute(query)\n",
    "        print(\"Database created successfully\")\n",
    "    except Error as err:\n",
    "        print(f\"Error: '{err}'\")\n",
    "def create_db_connection(host_name, user_name, user_password, db_name):\n",
    "    connection = None\n",
    "    try:\n",
    "        connection = mysql.connector.connect(\n",
    "            host=host_name,\n",
    "            user=user_name,\n",
    "            passwd=user_password,\n",
    "            database=db_name\n",
    "        )\n",
    "        print(\"MySQL Database connection successful\")\n",
    "    except Error as err:\n",
    "        print(f\"Error: '{err}'\")\n",
    "\n",
    "    return connection\n",
    "def execute_query(connection, query):\n",
    "    cursor = connection.cursor()\n",
    "    try:\n",
    "        cursor.execute(query)\n",
    "        connection.commit()\n",
    "        print(\"Query successful\")\n",
    "    except Error as err:\n",
    "        print(f\"Error: '{err}'\")\n",
    "def read_query(connection, query):\n",
    "    cursor = connection.cursor()\n",
    "    result = None\n",
    "    try:\n",
    "        cursor.execute(query)\n",
    "        result = cursor.fetchall()\n",
    "        return result\n",
    "    except Error as err:\n",
    "        print(f\"Error: '{err}'\")"
   ]
  },
  {
   "cell_type": "code",
   "execution_count": 3,
   "id": "33771b1c",
   "metadata": {},
   "outputs": [
    {
     "name": "stdout",
     "output_type": "stream",
     "text": [
      "MySQL Database connection successful\n",
      "Error: '1007 (HY000): Can't create database 'numberplate'; database exists'\n"
     ]
    }
   ],
   "source": [
    "connection = create_server_connection(\"localhost\", \"root\", \"1234\")\n",
    "q=\"CREATE DATABASE numberplate\"\n",
    "create_database(connection,q)\n"
   ]
  },
  {
   "cell_type": "code",
   "execution_count": null,
   "id": "4c9b1a9e",
   "metadata": {},
   "outputs": [],
   "source": [
    "# create_teacher_table = \"\"\"\n",
    "# CREATE TABLE numberplate (\n",
    "#   number_plate VARCHAR(40) NOT NULL,\n",
    "#   name VARCHAR(40) NOT NULL,\n",
    "#   companyid VARCHAR(10) NOT NULL,\n",
    "#   date_added DATE,\n",
    "#   phone_no VARCHAR(20)\n",
    "#   );\n",
    "#  \"\"\"\n",
    "\n",
    "# connection = create_db_connection(\"localhost\", \"root\", \"1234\", \"numberplate\") # Connect to the Database\n",
    "# execute_query(connection, create_teacher_table)\n"
   ]
  },
  {
   "cell_type": "code",
   "execution_count": null,
   "id": "d4765f51",
   "metadata": {},
   "outputs": [],
   "source": [
    "# insetnno = \"\"\"\n",
    "# INSERT INTO numberplate VALUES\n",
    "# ('dl7cQ1939','Ram','TCS','2024-02-15','4561123544'),\n",
    "# ('mh02fe3920','Laxman','Infosys','2024-02-15','4458615477');\n",
    "# \"\"\"\n",
    "# execute_query(connection, insetnno)\n",
    "update = \"\"\"\n",
    " UPDATE numberplate \n",
    " SET in_out = '0' \n",
    " WHERE name = 'Ram';\n",
    " \"\"\"\n",
    "\n",
    "connection = create_db_connection(\"localhost\", \"root\", '1234', 'numberplate')\n",
    "execute_query(connection, update)\n",
    "# a=\"\"\"\n",
    "# ALTER TABLE numberplate ADD in_out VARCHAR(1) DEFAULT 0;\n",
    "# \"\"\"\n",
    "# execute_query(connection, a)"
   ]
  },
  {
   "cell_type": "code",
   "execution_count": 8,
   "id": "9e5a565b",
   "metadata": {},
   "outputs": [
    {
     "name": "stdout",
     "output_type": "stream",
     "text": [
      "MySQL Database connection successful\n",
      "Query successful\n"
     ]
    }
   ],
   "source": [
    " create_teacher_table = \"\"\"\n",
    "CREATE TABLE company_master (\n",
    "  company_id  VARCHAR(40) NOT NULL,\n",
    "  company_name VARCHAR(40) NOT NULL,\n",
    "  password VARCHAR(40) NOT NULL,\n",
    "  date_added DATE\n",
    "  );\n",
    " \"\"\"\n",
    "\n",
    "connection = create_db_connection(\"localhost\", \"root\", \"1234\", \"numberplate\") # Connect to the Database\n",
    "execute_query(connection, create_teacher_table)\n"
   ]
  },
  {
   "cell_type": "code",
   "execution_count": 10,
   "id": "c44bde0f",
   "metadata": {},
   "outputs": [
    {
     "name": "stdout",
     "output_type": "stream",
     "text": [
      "Query successful\n"
     ]
    }
   ],
   "source": [
    "insetnno = \"\"\"\n",
    "INSERT INTO company_master VALUES\n",
    "('TCS','Tata Consultancy Services','1234','2024-02-15'),\n",
    "('Infosys','Infosys Limited','9876','2024-02-15');\n",
    "\"\"\"\n",
    "execute_query(connection, insetnno)"
   ]
  },
  {
   "cell_type": "code",
   "execution_count": 5,
   "id": "9172e4a3",
   "metadata": {},
   "outputs": [
    {
     "name": "stdout",
     "output_type": "stream",
     "text": [
      "MySQL Database connection successful\n",
      "Query successful\n"
     ]
    }
   ],
   "source": [
    "pk=\"\"\"\n",
    "ALTER TABLE company_master\n",
    "ADD PRIMARY KEY (company_id);\n",
    "\"\"\"\n",
    "connection = create_db_connection(\"localhost\", \"root\", \"1234\", \"numberplate\") # Connect to the Database\n",
    "\n",
    "execute_query(connection, pk)"
   ]
  },
  {
   "cell_type": "code",
   "execution_count": 6,
   "id": "adc05256",
   "metadata": {},
   "outputs": [
    {
     "name": "stdout",
     "output_type": "stream",
     "text": [
      "MySQL Database connection successful\n",
      "Query successful\n"
     ]
    }
   ],
   "source": [
    "pk=\"\"\"\n",
    "ALTER TABLE numberplate\n",
    "ADD PRIMARY KEY (number_plate);\n",
    "\"\"\"\n",
    "connection = create_db_connection(\"localhost\", \"root\", \"1234\", \"numberplate\") # Connect to the Database\n",
    "\n",
    "execute_query(connection, pk)"
   ]
  },
  {
   "cell_type": "code",
   "execution_count": null,
   "id": "cb8eeaf6",
   "metadata": {},
   "outputs": [],
   "source": []
  }
 ],
 "metadata": {
  "kernelspec": {
   "display_name": "Python 3 (ipykernel)",
   "language": "python",
   "name": "python3"
  },
  "language_info": {
   "codemirror_mode": {
    "name": "ipython",
    "version": 3
   },
   "file_extension": ".py",
   "mimetype": "text/x-python",
   "name": "python",
   "nbconvert_exporter": "python",
   "pygments_lexer": "ipython3",
   "version": "3.11.3"
  }
 },
 "nbformat": 4,
 "nbformat_minor": 5
}
