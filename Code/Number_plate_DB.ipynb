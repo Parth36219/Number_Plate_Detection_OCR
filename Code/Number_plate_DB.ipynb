{
 "cells": [
  {
   "cell_type": "code",
   "execution_count": 3,
   "id": "87e44b5e",
   "metadata": {},
   "outputs": [],
   "source": [
    "import mysql.connector\n",
    "from mysql.connector import Error\n",
    "def create_server_connection(host_name, user_name, user_password):\n",
    "    connection = None\n",
    "    try:\n",
    "        connection = mysql.connector.connect(\n",
    "            host=host_name,\n",
    "            user=user_name,\n",
    "            passwd=user_password\n",
    "        )\n",
    "        print(\"MySQL Database connection successful\")\n",
    "    except Error as err:\n",
    "        print(f\"Error: '{err}'\")\n",
    "\n",
    "    return connection\n",
    "def create_database(connection, query):\n",
    "    cursor = connection.cursor()\n",
    "    try:\n",
    "        cursor.execute(query)\n",
    "        print(\"Database created successfully\")\n",
    "    except Error as err:\n",
    "        print(f\"Error: '{err}'\")\n",
    "def create_db_connection(host_name, user_name, user_password, db_name):\n",
    "    connection = None\n",
    "    try:\n",
    "        connection = mysql.connector.connect(\n",
    "            host=host_name,\n",
    "            user=user_name,\n",
    "            passwd=user_password,\n",
    "            database=db_name\n",
    "        )\n",
    "        print(\"MySQL Database connection successful\")\n",
    "    except Error as err:\n",
    "        print(f\"Error: '{err}'\")\n",
    "\n",
    "    return connection\n",
    "def execute_query(connection, query):\n",
    "    cursor = connection.cursor()\n",
    "    try:\n",
    "        cursor.execute(query)\n",
    "        connection.commit()\n",
    "        print(\"Query successful\")\n",
    "    except Error as err:\n",
    "        print(f\"Error: '{err}'\")\n",
    "def read_query(connection, query):\n",
    "    cursor = connection.cursor()\n",
    "    result = None\n",
    "    try:\n",
    "        cursor.execute(query)\n",
    "        result = cursor.fetchall()\n",
    "        return result\n",
    "    except Error as err:\n",
    "        print(f\"Error: '{err}'\")"
   ]
  },
  {
   "cell_type": "code",
   "execution_count": 3,
   "id": "33771b1c",
   "metadata": {},
   "outputs": [
    {
     "name": "stdout",
     "output_type": "stream",
     "text": [
      "MySQL Database connection successful\n",
      "Error: '1007 (HY000): Can't create database 'numberplate'; database exists'\n"
     ]
    }
   ],
   "source": [
    "connection = create_server_connection(\"localhost\", \"root\", \"1234\")\n",
    "q=\"CREATE DATABASE numberplate\"\n",
    "create_database(connection,q)\n"
   ]
  },
  {
   "cell_type": "code",
   "execution_count": null,
   "id": "4c9b1a9e",
   "metadata": {},
   "outputs": [],
   "source": [
    "# create_teacher_table = \"\"\"\n",
    "# CREATE TABLE numberplate (\n",
    "#   number_plate VARCHAR(40) NOT NULL,\n",
    "#   name VARCHAR(40) NOT NULL,\n",
    "#   companyid VARCHAR(10) NOT NULL,\n",
    "#   date_added DATE,\n",
    "#   phone_no VARCHAR(20)\n",
    "#   );\n",
    "#  \"\"\"\n",
    "\n",
    "# connection = create_db_connection(\"localhost\", \"root\", \"1234\", \"numberplate\") # Connect to the Database\n",
    "# execute_query(connection, create_teacher_table)\n"
   ]
  },
  {
   "cell_type": "code",
   "execution_count": null,
   "id": "d4765f51",
   "metadata": {},
   "outputs": [],
   "source": [
    "# insetnno = \"\"\"\n",
    "# INSERT INTO numberplate VALUES\n",
    "# ('dl7cQ1939','Ram','TCS','2024-02-15','4561123544'),\n",
    "# ('mh02fe3920','Laxman','Infosys','2024-02-15','4458615477');\n",
    "# \"\"\"\n",
    "# execute_query(connection, insetnno)\n",
    "update = \"\"\"\n",
    " UPDATE numberplate \n",
    " SET in_out = '0' \n",
    " WHERE name = 'Ram';\n",
    " \"\"\"\n",
    "\n",
    "connection = create_db_connection(\"localhost\", \"root\", '1234', 'numberplate')\n",
    "execute_query(connection, update)\n",
    "# a=\"\"\"\n",
    "# ALTER TABLE numberplate ADD in_out VARCHAR(1) DEFAULT 0;\n",
    "# \"\"\"\n",
    "# execute_query(connection, a)"
   ]
  },
  {
   "cell_type": "code",
   "execution_count": 8,
   "id": "9e5a565b",
   "metadata": {},
   "outputs": [
    {
     "name": "stdout",
     "output_type": "stream",
     "text": [
      "MySQL Database connection successful\n",
      "Query successful\n"
     ]
    }
   ],
   "source": [
    " create_teacher_table = \"\"\"\n",
    "CREATE TABLE company_master (\n",
    "  company_id             VARCHAR(40) NOT NULL,\n",
    "  company_name           VARCHAR(40) NOT NULL,\n",
    "  password               VARCHAR(40) NOT NULL,\n",
    "  date_added             DATE\n",
    "  reset_token            VARCHAR(255),\n",
    "  reset_token_expiration DATETIME,\n",
    "  email_id               VARCHAR(255)\n",
    "  \n",
    "  );\n",
    " \"\"\"\n",
    "\n",
    "connection = create_db_connection(\"localhost\", \"root\", \"1234\", \"numberplate\") # Connect to the Database\n",
    "execute_query(connection, create_teacher_table)\n"
   ]
  },
  {
   "cell_type": "code",
   "execution_count": 5,
   "id": "9172e4a3",
   "metadata": {},
   "outputs": [
    {
     "name": "stdout",
     "output_type": "stream",
     "text": [
      "MySQL Database connection successful\n",
      "Query successful\n"
     ]
    }
   ],
   "source": [
    "pk=\"\"\"\n",
    "ALTER TABLE company_master\n",
    "ADD PRIMARY KEY (company_id);\n",
    "\"\"\"\n",
    "connection = create_db_connection(\"localhost\", \"root\", \"1234\", \"numberplate\") # Connect to the Database\n",
    "\n",
    "execute_query(connection, pk)"
   ]
  },
  {
   "cell_type": "code",
   "execution_count": 6,
   "id": "adc05256",
   "metadata": {},
   "outputs": [
    {
     "name": "stdout",
     "output_type": "stream",
     "text": [
      "MySQL Database connection successful\n",
      "Query successful\n"
     ]
    }
   ],
   "source": [
    "pk=\"\"\"\n",
    "ALTER TABLE numberplate\n",
    "ADD PRIMARY KEY (number_plate);\n",
    "\"\"\"\n",
    "connection = create_db_connection(\"localhost\", \"root\", \"1234\", \"numberplate\") # Connect to the Database\n",
    "\n",
    "execute_query(connection, pk)"
   ]
  },
  {
   "cell_type": "code",
   "execution_count": 11,
   "id": "c0d773a7",
   "metadata": {},
   "outputs": [
    {
     "name": "stdout",
     "output_type": "stream",
     "text": [
      "Query successful\n"
     ]
    }
   ],
   "source": [
    "insetnno = \"\"\"\n",
    "INSERT INTO numberplate (number_plate, name, companyid, date_added, phone_no) VALUES\n",
    "('DL7C1939', 'Ram', 'TCS', '2024-02-15', '4561123544'),\n",
    "('KA03AB1234', 'Amit', 'Wipro', '2024-02-15', '9988776655'),\n",
    "('TN10CD5678', 'Sita', 'HCL', '2024-02-15', '8877665544'),\n",
    "('AP09EF9012', 'Raj', 'Cognizant', '2024-02-15', '9988554477'),\n",
    "('KL07GH3456', 'Sunil', 'Accenture', '2024-02-15', '7766554433'),\n",
    "('MH01IJ7890', 'Preeti', 'IBM', '2024-02-15', '6655443322'),\n",
    "('UP14JK1234', 'Asha', 'TCS', '2024-02-15', '5544332211'),\n",
    "('DL3LM5678', 'Ravi', 'Infosys', '2024-02-15', '4433221100'),\n",
    "('HR26MN9012', 'Neha', 'Wipro', '2024-02-15', '3322110099'),\n",
    "('GJ01OP3456', 'Kiran', 'HCL', '2024-02-15', '2211009988'),\n",
    "('RJ14QR7890', 'Vijay', 'Cognizant', '2024-02-15', '1100998877'),\n",
    "('TN09ST1234', 'Pooja', 'Accenture', '2024-02-15', '9988776655'),\n",
    "('PB02UV5678', 'Deepak', 'IBM', '2024-02-15', '8877665544'),\n",
    "('KA01WX9012', 'Sanjay', 'TCS', '2024-02-15', '7766554433'),\n",
    "('MH15YZ3456', 'Aarti', 'Infosys', '2024-02-15', '6655443322'),\n",
    "('DL4AB7890', 'Mohan', 'Wipro', '2024-02-15', '5544332211'),\n",
    "('UP16CD1234', 'Sonal', 'HCL', '2024-02-15', '4433221100'),\n",
    "('BR12EF5678', 'Kavita', 'Cognizant', '2024-02-15', '3322110099'),\n",
    "('JK03GH9012', 'Manish', 'Accenture', '2024-02-15', '2211009988'),\n",
    "('HR20IJ3456', 'Rani', 'IBM', '2024-02-15', '1100998877'),\n",
    "('GJ03KL7890', 'Arun', 'TCS', '2024-02-15', '9988776655');\n",
    "\n",
    "\"\"\"\n",
    "execute_query(connection, insetnno)"
   ]
  },
  {
   "cell_type": "code",
   "execution_count": null,
   "id": "c5e17116",
   "metadata": {},
   "outputs": [],
   "source": []
  }
 ],
 "metadata": {
  "kernelspec": {
   "display_name": "Python 3 (ipykernel)",
   "language": "python",
   "name": "python3"
  },
  "language_info": {
   "codemirror_mode": {
    "name": "ipython",
    "version": 3
   },
   "file_extension": ".py",
   "mimetype": "text/x-python",
   "name": "python",
   "nbconvert_exporter": "python",
   "pygments_lexer": "ipython3",
   "version": "3.11.3"
  }
 },
 "nbformat": 4,
 "nbformat_minor": 5
}
